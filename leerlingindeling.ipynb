{
 "cells": [
  {
   "cell_type": "code",
   "execution_count": null,
   "metadata": {},
   "outputs": [],
   "source": [
    "import itertools\n",
    "import pandas as pd\n",
    "import numpy as np\n",
    "\n",
    "import pulp"
   ]
  },
  {
   "attachments": {},
   "cell_type": "markdown",
   "metadata": {},
   "source": [
    "# Reading constraints and preferences"
   ]
  },
  {
   "cell_type": "code",
   "execution_count": null,
   "metadata": {},
   "outputs": [],
   "source": [
    "def restructure_voorkeuren(df):\n",
    "    df = df.melt(ignore_index=False, var_name='Type', value_name='Waarde').dropna()\n",
    "    df[['Type', 'Nr']] = df['Type'].str.split('.', expand=True)\n",
    "    df = (df.assign(Nr = lambda df: df['Nr'].fillna('0').astype(int))\n",
    "          .set_index(['Type', 'Nr'], append=True)\n",
    "          )\n",
    "    return df"
   ]
  },
  {
   "cell_type": "code",
   "execution_count": null,
   "metadata": {},
   "outputs": [],
   "source": [
    "leerlingen = pd.read_excel('voorkeuren.xlsx', index_col=0).drop(columns=['GRAAG_MET', 'GRAAG_MET.1'])\n",
    "voorkeuren = leerlingen.pipe(restructure_voorkeuren)"
   ]
  },
  {
   "attachments": {},
   "cell_type": "markdown",
   "metadata": {},
   "source": [
    "# Setting up the problem"
   ]
  },
  {
   "cell_type": "code",
   "execution_count": null,
   "metadata": {},
   "outputs": [],
   "source": [
    "# Hyperparameters\n",
    "N_STUDENTS_MAX_PER_GROUP = 5\n",
    "OPTIMIZE_EVENLY = True"
   ]
  },
  {
   "cell_type": "code",
   "execution_count": null,
   "metadata": {},
   "outputs": [],
   "source": [
    "M = 1_000_000 # A very big number, so that constraints are never larger than 1\n",
    "EPS = 0.01 # A small number to correct for numerical inaccuracies\n",
    "\n",
    "MBGROEPEN = ['Blauw', 'Groen', 'Oranje', 'Geel']"
   ]
  },
  {
   "cell_type": "code",
   "execution_count": null,
   "metadata": {},
   "outputs": [],
   "source": [
    "n_wishes_max = voorkeuren.groupby(['Leerling', \"Type\"]).size().max()\n",
    "preference_value = {i: 0.5**i for i in range(1, n_wishes_max + 1)}\n",
    "def get_satisfaction(i, preference_value=preference_value):\n",
    "    return sum(preference_value[i] for i in range(1, i + 1))"
   ]
  },
  {
   "attachments": {},
   "cell_type": "markdown",
   "metadata": {},
   "source": [
    "# Creating and solving the model"
   ]
  },
  {
   "cell_type": "code",
   "execution_count": null,
   "metadata": {},
   "outputs": [],
   "source": [
    "prob = pulp.LpProblem('leerlingindeling', pulp.LpMaximize)\n",
    "\n",
    "# Binary representations make more sense than a single integer per student which is basically an index\n",
    "in_group = pulp.LpVariable.dicts('group', itertools.product(leerlingen.index, MBGROEPEN), cat='Binary')\n",
    "\n",
    "# Every student must be in exactly one group\n",
    "for ll in leerlingen.index:\n",
    "    prob += pulp.lpSum([in_group[(ll, gr)] for gr in MBGROEPEN]) == 1\n",
    "\n",
    "# Every group can have a max number of students from an earlier group (no kliekjes)\n",
    "for gr in MBGROEPEN:\n",
    "    prob += pulp.lpSum([in_group[(ll, gr)] for ll in leerlingen.index]) <= N_STUDENTS_MAX_PER_GROUP\n",
    "\n",
    "# Some students can not move int other groups (e.g. a brother/sister is already there)\n",
    "for i, row in voorkeuren.query('Type == \"Niet in\"').iterrows():\n",
    "    ll, type_, nr = i\n",
    "    gr = row['Waarde']\n",
    "    prob += in_group[(ll, gr)] == 0\n",
    "\n",
    "# Now it's really starting: who prefers to be with whom - this we want to optimize\n",
    "graag_met = voorkeuren.xs('Graag met', level='Type')\n",
    "satisfied = pulp.LpVariable.dicts(\"Satisfied\", graag_met.index.to_list(), cat=\"Binary\")\n",
    "# checks whether the preference is for a single groep (e.g. Blauw)\n",
    "pref_per_group = list(itertools.chain(*[[(ll, nr, gr) for gr in MBGROEPEN] for ll, nr in graag_met.index]))\n",
    "satisfied_per_group = pulp.LpVariable.dicts(\"Satisfied_per_group\", pref_per_group, cat=\"Binary\")\n",
    "for i, row in graag_met.iterrows():\n",
    "    ll, nr = i\n",
    "    if row['Waarde'] not in MBGROEPEN:\n",
    "        other_ll = row['Waarde']\n",
    "        for gr in MBGROEPEN:\n",
    "            # Matching preferences are an XNOR problem, see https://yetanothermathprogrammingconsultant.blogspot.com/2022/06/xnor-as-linear-inequalities.html\n",
    "            prob += satisfied_per_group[(ll, nr, gr)] >= 1 - in_group[(ll, gr)] - in_group[(other_ll, gr)]  # Allebei niet in deze groep ==> satisfied = 1\n",
    "            prob += satisfied_per_group[(ll, nr, gr)] <= 1 + in_group[(ll, gr)] - in_group[(other_ll, gr)]  # ll niet in groep, ander wel ==> satisfied = 0\n",
    "            prob += satisfied_per_group[(ll, nr, gr)] <= 1 - in_group[(ll, gr)] + in_group[(other_ll, gr)]  # ll in groep, ander niet ==> satisfied = 0\n",
    "            prob += satisfied_per_group[(ll, nr, gr)] >= in_group[(ll, gr)] + in_group[(other_ll, gr)] - 1  # allebei in deze groep ==> satisfied = 1\n",
    "\n",
    "            # The total preference is only satisfied if it is at least correct for this group\n",
    "            # AND definition: see https://yetanothermathprogrammingconsultant.blogspot.com/2022/06/xnor-as-linear-inequalities.html\n",
    "            prob += satisfied[i] <= satisfied_per_group[(ll, nr, gr)]  \n",
    "        prob += satisfied[i] >= pulp.lpSum([satisfied_per_group[(ll, nr, gr)] for gr in MBGROEPEN]) - len(MBGROEPEN) + 1  # The preference is satisfied if it is correct for every group\n",
    "    else:\n",
    "        gr = row['Waarde']\n",
    "        prob += (in_group[(ll, gr)] >= satisfied[i])  # TODO: This is not a full specification of the boundary - this only works because we always optimize for satisfied (directly or indirectly)\n",
    "\n",
    "# We do not want to optimize the number of matches: at least 1 match for a student is more valuable than the third\n",
    "satisfaction_per_ll = pulp.LpVariable.dict(\"LLSatisfaction\", leerlingen.index, cat='Continuous')\n",
    "# Per ll whether at least i preferences are satisfied\n",
    "n_satisfied_per_ll = pulp.LpVariable.dicts(\"llassignedprefs\", itertools.product(leerlingen.index, (i for i in range(1, n_wishes_max + 1))), cat='Binary')\n",
    "for ll in leerlingen.index:\n",
    "    ll_prefs = []\n",
    "    for i in range(n_wishes_max):\n",
    "        try:\n",
    "            ll_prefs.append(satisfied[(ll, i)])\n",
    "        except KeyError:\n",
    "            break\n",
    "    n_satisfied = pulp.lpSum(ll_prefs)\n",
    "    \n",
    "    \n",
    "    for i in range(1, n_wishes_max + 1):\n",
    "        # The first constraint checks that n_satisfied(i) for each leerling is 0 if less than `i` preferences are satisfied\n",
    "        prob += n_satisfied_per_ll[(ll, i)] <= n_satisfied / i # The division works in combination with the fact that n_true_per_ll is binary, so can never be larger than 1\n",
    "        # The second constraint checks that n_satisfied(i) for each leerling is 1 if at least i preferences are satisfied\n",
    "        prob += n_satisfied_per_ll[(ll, i)] >= (n_satisfied - (i - 1) - EPS) / M  # M ensures the constraint is never larger than 1\n",
    "\n",
    "    satisfaction_per_ll[ll] = sum(val * n_satisfied_per_ll[(ll, i)] for i, val in preference_value.items())\n",
    "\n",
    "if OPTIMIZE_EVENLY:\n",
    "    prob += pulp.lpSum(satisfaction_per_ll)\n",
    "else:\n",
    "    prob += pulp.lpSum(satisfied)\n",
    "\n",
    "prob.solve()\n",
    "print(pulp.LpStatus[prob.status])"
   ]
  },
  {
   "attachments": {},
   "cell_type": "markdown",
   "metadata": {},
   "source": [
    "# Get the outcome"
   ]
  },
  {
   "cell_type": "code",
   "execution_count": null,
   "metadata": {},
   "outputs": [],
   "source": [
    "def get_outcome(vars):\n",
    "    chosen_groups = [v.name for v in vars if v.value() == 1 and v.name.startswith('group')]\n",
    "    df = pd.DataFrame(chosen_groups)\n",
    "    df[['Naam', 'Group']] = df[0].str.extract(\"group_\\('(.*)',_'(.*)'\\)\")\n",
    "    return df.drop(columns=[0])\n",
    "\n",
    "def display_outcome_nicely(df):\n",
    "    df = (outcome.assign(nr = lambda df: df.groupby('Group').cumcount().add(1))\n",
    "                 .set_index(['Group', 'nr'])\n",
    "                 ['Naam']\n",
    "                 .unstack('Group', fill_value='')\n",
    "        )\n",
    "    return df"
   ]
  },
  {
   "cell_type": "code",
   "execution_count": null,
   "metadata": {},
   "outputs": [],
   "source": [
    "outcome = get_outcome(prob.variables())\n",
    "outcome.pipe(display_outcome_nicely)"
   ]
  },
  {
   "attachments": {},
   "cell_type": "markdown",
   "metadata": {},
   "source": [
    "# Check solution"
   ]
  },
  {
   "cell_type": "code",
   "execution_count": null,
   "metadata": {},
   "outputs": [],
   "source": [
    "def calculate_satisfied_constraints(vars_):\n",
    "    constraints = {v.name: v.value() for v in vars_ if v.name.startswith('Satisfied') and not 'per_group' in v.name}\n",
    "    satisfied_constraints = (pd.Series(constraints)\n",
    "                            .to_frame(name='Satisfied')\n",
    "                            .assign(Satisfied = lambda df: df['Satisfied'].astype('boolean'))\n",
    "                            )\n",
    "    ix = (satisfied_constraints.index.to_series()\n",
    "            .str.extract(\"Satisfied_\\('(?P<ll>.*)',_(?P<Nr>.*)\\)\")\n",
    "            .set_index(['ll', 'Nr'])\n",
    "            .index\n",
    "            )\n",
    "    \n",
    "    satisfied_constraints.index = ix\n",
    "    return satisfied_constraints\n",
    "\n",
    "\n",
    "def calculate_performance_per_leerling(satisfied_constraints):\n",
    "    df = satisfied_constraints.groupby('ll')['Satisfied'].agg(NrPreferences = 'count',\n",
    "                                                              AccountedPreferences = 'sum',\n",
    "                                                              PctAccounted = 'mean')\n",
    "\n",
    "    possible_satisfaction = np.array([get_satisfaction(nprefs) for nprefs in df['NrPreferences']])\n",
    "    actual_satisfaction = np.array([get_satisfaction(nprefs) for nprefs in df['AccountedPreferences']])\n",
    "    df = df.assign(RelativeSatisfaction =  actual_satisfaction / possible_satisfaction)\n",
    "    \n",
    "    return df\n",
    "\n",
    "def calculate_solution_performance(ll_performance):\n",
    "    max_attainable_satisfaction = (ll_performance['NrPreferences'].value_counts() # nr of ll with n_wishes\n",
    "                                    .to_frame()\n",
    "                                    .assign(MaxSatisfaction = lambda df: df.index.map(get_satisfaction), # value per student with n_wishes\n",
    "                                            prod = lambda df: df['NrPreferences'] * df['MaxSatisfaction'] # max satisfaction per n_wishes\n",
    "                                            )\n",
    "                                    ['prod'].sum() # sum to get solution total\n",
    "                                    )\n",
    "    solution_performance = (ll_performance[['NrPreferences', 'AccountedPreferences']].sum().to_frame().transpose()\n",
    "\n",
    "\n",
    "                                          .assign(PctAccountedPReferences = lambda df: df['AccountedPreferences'] / df['NrPreferences'],\n",
    "                                                  Satisfaction = ll_performance['AccountedPreferences'].map(get_satisfaction).sum() / max_attainable_satisfaction)                \n",
    "                        ).to_dict('records')[0]\n",
    "    return solution_performance\n",
    "\n",
    "satisfied_constraints = calculate_satisfied_constraints(prob.variables())\n",
    "ll_performance = calculate_performance_per_leerling(satisfied_constraints)\n",
    "solution_performance = calculate_solution_performance(ll_performance)  \n",
    "print(solution_performance)\n",
    "display(ll_performance)"
   ]
  },
  {
   "attachments": {},
   "cell_type": "markdown",
   "metadata": {},
   "source": [
    "# Analysis"
   ]
  },
  {
   "attachments": {},
   "cell_type": "markdown",
   "metadata": {},
   "source": [
    "Optimaliseer naar leerlingtevredenheid:\n",
    "* Max 6 per groep: 23 wensen vervuld, 86.2% (niemand naar Oranje)\n",
    "* Max 5 per groep: 22 wensen vervuld, 85.0% (Ro 3e wens niet)\n",
    "* Max 4 per groep: 21 wensen vervuld, 82.6% \n",
    "\n",
    "Optimaliseer naar aantal wensen vervuld\n",
    "* Max 6 per groep: 25 wensen vervuld, 83.8% (El, Su geen wensen)\n",
    "* Max 5 per groep: 23 wensen vervuld, 80.3% (El, Fl geen wensen)\n",
    "* Max 4 per groep: 21 wensen vervuld, 79.1% (Fl geen wensen)"
   ]
  }
 ],
 "metadata": {
  "kernelspec": {
   "display_name": "leerlingindeling",
   "language": "python",
   "name": "python3"
  },
  "language_info": {
   "codemirror_mode": {
    "name": "ipython",
    "version": 3
   },
   "file_extension": ".py",
   "mimetype": "text/x-python",
   "name": "python",
   "nbconvert_exporter": "python",
   "pygments_lexer": "ipython3",
   "version": "3.9.16"
  },
  "orig_nbformat": 4
 },
 "nbformat": 4,
 "nbformat_minor": 2
}

{
 "cells": [
  {
   "cell_type": "code",
   "execution_count": null,
   "metadata": {},
   "outputs": [],
   "source": [
    "import itertools\n",
    "import pandas as pd\n",
    "import numpy as np\n",
    "\n",
    "import pulp"
   ]
  },
  {
   "attachments": {},
   "cell_type": "markdown",
   "metadata": {},
   "source": [
    "# Reading constraints and preferences"
   ]
  },
  {
   "cell_type": "code",
   "execution_count": null,
   "metadata": {},
   "outputs": [],
   "source": [
    "def restructure_voorkeuren(df):\n",
    "    \"\"\"\n",
    "    Restructure the input from wide to long format and do basic cleaning\n",
    "    \"\"\"\n",
    "    df = df.melt(ignore_index=False, var_name='Type', value_name='Waarde').dropna()\n",
    "    df[['Type', 'Nr']] = df['Type'].str.split('.', expand=True)\n",
    "    df = (df.assign(Nr = lambda df: df['Nr'].fillna('0').astype(int))\n",
    "          .set_index(['Type', 'Nr'], append=True)\n",
    "          )\n",
    "    return df"
   ]
  },
  {
   "cell_type": "code",
   "execution_count": null,
   "metadata": {},
   "outputs": [],
   "source": [
    "leerlingen = pd.read_excel('voorkeuren.xlsx', index_col=0).drop(columns=['GRAAG_MET', 'GRAAG_MET.1'])\n",
    "voorkeuren = leerlingen.pipe(restructure_voorkeuren)"
   ]
  },
  {
   "attachments": {},
   "cell_type": "markdown",
   "metadata": {},
   "source": [
    "# Setting up the problem"
   ]
  },
  {
   "cell_type": "code",
   "execution_count": null,
   "metadata": {},
   "outputs": [],
   "source": [
    "M = 1_000_000 # A very big number, so that constraints are never larger than 1\n",
    "EPS = 0.01 # A small number to correct for numerical inaccuracies\n",
    "\n",
    "MBGROEPEN = ['Blauw', 'Groen', 'Oranje', 'Geel']"
   ]
  },
  {
   "cell_type": "code",
   "execution_count": null,
   "metadata": {},
   "outputs": [],
   "source": [
    "n_wishes_max = voorkeuren.groupby(['Leerling', \"Type\"]).size().max()\n",
    "preference_value = {i: 0.5**i for i in range(1, n_wishes_max + 1)}\n",
    "def get_satisfaction(i, preference_value=preference_value):\n",
    "    \"\"\"\n",
    "    Get a score for the satisfaction of the leerling for getting i preferences granted\n",
    "\n",
    "    Parameters\n",
    "    ----------\n",
    "    i: int\n",
    "        The nr of accommodated preferences\n",
    "    preference_values: dict\n",
    "        A dictionary containing the score of getting the i-th preference valued\n",
    "    \"\"\"\n",
    "    return sum(preference_value[i] for i in range(1, i + 1))"
   ]
  },
  {
   "attachments": {},
   "cell_type": "markdown",
   "metadata": {},
   "source": [
    "# Creating and solving the model"
   ]
  },
  {
   "cell_type": "code",
   "execution_count": null,
   "metadata": {},
   "outputs": [],
   "source": [
    "def solve_problem(voorkeuren: pd.DataFrame, leerlingen=leerlingen.index, groepen=MBGROEPEN, max_students_per_group=5, optimize_evenly=True):\n",
    "    \"\"\"\n",
    "    Create a problem to distribute leerlingen over groepen\n",
    "\n",
    "    Parameters\n",
    "    ----------\n",
    "    voorkeuren: pd.DataFrame\n",
    "        A DataFrame with as MultiIndex with (Leerling, Type, Nr) and a value, where\n",
    "        Leerling is the Name, Type is either \"Graag met\", \"Niet in\" or \"Liever niet\"\n",
    "        Waarde is then a column with either a Leerling or Group name. In combination with\n",
    "        Niet In only a Group name is allowed\n",
    "    leerlingen: Iterable\n",
    "        An Iterable containing all names of the leerlingen\n",
    "    groepen: Iterable\n",
    "        An interable containing all names of the groepen\n",
    "    max_students_per_group, int (default = 5)\n",
    "        The number of leerlingen that can go to the same group\n",
    "    optimize_evenly, bool (default = True)\n",
    "        Whether to optimize evenly across leerlingen(so getting 1 pref for each student\n",
    "        is more valuable than 3 for one student and 0 for someone else). The alternative\n",
    "        if optimizing for accommododating as many preferences, without regard as to for\n",
    "        who it is\n",
    "    \n",
    "    Returns\n",
    "    -------\n",
    "        pulp.LpProblem - the solved problem\n",
    "    \n",
    "    Raises\n",
    "    ------\n",
    "    RuntimeError\n",
    "        If problem is unsolvable\n",
    "\n",
    "    \"\"\"\n",
    "    prob = pulp.LpProblem('leerlingindeling', pulp.LpMaximize)\n",
    "\n",
    "    # Binary representations make more sense than a single integer per student which is basically an index\n",
    "    in_group = pulp.LpVariable.dicts('group', itertools.product(leerlingen, groepen), cat='Binary')\n",
    "\n",
    "    # Every student must be in exactly one group\n",
    "    for ll in leerlingen:\n",
    "        prob += pulp.lpSum([in_group[(ll, gr)] for gr in MBGROEPEN]) == 1\n",
    "\n",
    "    # Every group can have a max number of students from an earlier group (no kliekjes)\n",
    "    for gr in MBGROEPEN:\n",
    "        prob += pulp.lpSum([in_group[(ll, gr)] for ll in leerlingen]) <= max_students_per_group\n",
    "\n",
    "    # Some students can not move int other groups (e.g. a brother/sister is already there)\n",
    "    for i, row in voorkeuren.query('Type == \"Niet in\"').iterrows():\n",
    "        ll, type_, nr = i\n",
    "        gr = row['Waarde']\n",
    "        prob += in_group[(ll, gr)] == 0\n",
    "\n",
    "    # Now it's really starting: who prefers to be with whom - this we want to optimize\n",
    "    graag_met = voorkeuren.xs('Graag met', level='Type')\n",
    "    satisfied = pulp.LpVariable.dicts(\"Satisfied\", graag_met.index.to_list(), cat=\"Binary\")\n",
    "    # checks whether the preference is for a single groep (e.g. Blauw)\n",
    "    pref_per_group = list(itertools.chain(*[[(ll, nr, gr) for gr in MBGROEPEN] for ll, nr in graag_met.index]))\n",
    "    satisfied_per_group = pulp.LpVariable.dicts(\"Satisfied_per_group\", pref_per_group, cat=\"Binary\")\n",
    "    for i, row in graag_met.iterrows():\n",
    "        ll, nr = i\n",
    "        if row['Waarde'] not in groepen:\n",
    "            other_ll = row['Waarde']\n",
    "            for gr in groepen:\n",
    "                # Matching preferences are an XNOR problem, see https://yetanothermathprogrammingconsultant.blogspot.com/2022/06/xnor-as-linear-inequalities.html\n",
    "                prob += satisfied_per_group[(ll, nr, gr)] >= 1 - in_group[(ll, gr)] - in_group[(other_ll, gr)]  # Allebei niet in deze groep ==> satisfied = 1\n",
    "                prob += satisfied_per_group[(ll, nr, gr)] <= 1 + in_group[(ll, gr)] - in_group[(other_ll, gr)]  # ll niet in groep, ander wel ==> satisfied = 0\n",
    "                prob += satisfied_per_group[(ll, nr, gr)] <= 1 - in_group[(ll, gr)] + in_group[(other_ll, gr)]  # ll in groep, ander niet ==> satisfied = 0\n",
    "                prob += satisfied_per_group[(ll, nr, gr)] >= in_group[(ll, gr)] + in_group[(other_ll, gr)] - 1  # allebei in deze groep ==> satisfied = 1\n",
    "\n",
    "                # The total preference is only satisfied if it is at least correct for this group\n",
    "                # AND definition: see https://yetanothermathprogrammingconsultant.blogspot.com/2022/06/xnor-as-linear-inequalities.html\n",
    "                prob += satisfied[i] <= satisfied_per_group[(ll, nr, gr)]  \n",
    "            prob += satisfied[i] >= pulp.lpSum([satisfied_per_group[(ll, nr, gr)] for gr in MBGROEPEN]) - len(MBGROEPEN) + 1  # The preference is satisfied if it is correct for every group\n",
    "        else:\n",
    "            gr = row['Waarde']\n",
    "            prob += (in_group[(ll, gr)] >= satisfied[i])  # TODO: This is not a full specification of the boundary - this only works because we always optimize for satisfied (directly or indirectly)\n",
    "\n",
    "    # We do not want to optimize the number of matches: at least 1 match for a student is more valuable than the third\n",
    "    satisfaction_per_ll = pulp.LpVariable.dict(\"LLSatisfaction\", leerlingen, cat='Continuous')\n",
    "    # Per ll whether at least i preferences are satisfied\n",
    "    n_satisfied_per_ll = pulp.LpVariable.dicts(\"llassignedprefs\", itertools.product(leerlingen, (i for i in range(1, n_wishes_max + 1))), cat='Binary')\n",
    "    for ll in leerlingen:\n",
    "        ll_prefs = []\n",
    "        for i in range(n_wishes_max):\n",
    "            try:\n",
    "                ll_prefs.append(satisfied[(ll, i)])\n",
    "            except KeyError:\n",
    "                break\n",
    "        n_satisfied = pulp.lpSum(ll_prefs)\n",
    "        \n",
    "        \n",
    "        for i in range(1, n_wishes_max + 1):\n",
    "            # The first constraint checks that n_satisfied(i) for each leerling is 0 if less than `i` preferences are satisfied\n",
    "            prob += n_satisfied_per_ll[(ll, i)] <= n_satisfied / i # The division works in combination with the fact that n_true_per_ll is binary, so can never be larger than 1\n",
    "            # The second constraint checks that n_satisfied(i) for each leerling is 1 if at least i preferences are satisfied\n",
    "            prob += n_satisfied_per_ll[(ll, i)] >= (n_satisfied - (i - 1) - EPS) / M  # M ensures the constraint is never larger than 1\n",
    "\n",
    "        satisfaction_per_ll[ll] = sum(val * n_satisfied_per_ll[(ll, i)] for i, val in preference_value.items())\n",
    "\n",
    "    if optimize_evenly:\n",
    "        prob += pulp.lpSum(satisfaction_per_ll)\n",
    "    else:\n",
    "        prob += pulp.lpSum(satisfied)\n",
    "\n",
    "    prob.solve()\n",
    "    if pulp.LpStatus[prob.status] != 'Optimal':\n",
    "        raise RuntimeError(f'Could not solve LP-problem, status {pulp.LpStatus[prob.status]!r}')\n",
    "    return prob"
   ]
  },
  {
   "cell_type": "code",
   "execution_count": null,
   "metadata": {},
   "outputs": [],
   "source": [
    "prob = solve_problem(voorkeuren)"
   ]
  },
  {
   "cell_type": "code",
   "execution_count": null,
   "metadata": {},
   "outputs": [],
   "source": [
    "type(prob.variables()[0])"
   ]
  },
  {
   "attachments": {},
   "cell_type": "markdown",
   "metadata": {},
   "source": [
    "# Get the outcome"
   ]
  },
  {
   "cell_type": "code",
   "execution_count": null,
   "metadata": {},
   "outputs": [],
   "source": [
    "def get_outcome(vars_) -> pd.DataFrame:\n",
    "    \"\"\"\n",
    "    Restructure the Problem Variables in a nice DataFrame\n",
    "\n",
    "    Parameters\n",
    "    ----------\n",
    "    vars: list of pulp.LpVariables\n",
    "        The result of prob.variables()\n",
    "    \"\"\"\n",
    "    chosen_groups = [v.name for v in vars_ if v.value() == 1 and v.name.startswith('group')]\n",
    "    df = pd.DataFrame(chosen_groups)\n",
    "    df[['Naam', 'Group']] = df[0].str.extract(\"group_\\('(.*)',_'(.*)'\\)\")\n",
    "    return df.drop(columns=[0])\n",
    "\n",
    "def display_outcome_nicely(df):\n",
    "    \"\"\"\n",
    "    Transform DataFrame so that leerlingen are grouped by the group in which they are placed\n",
    "    \"\"\"\n",
    "    df = (outcome.assign(nr = lambda df: df.groupby('Group').cumcount().add(1))\n",
    "                 .set_index(['Group', 'nr'])\n",
    "                 ['Naam']\n",
    "                 .unstack('Group', fill_value='')\n",
    "        )\n",
    "    return df\n",
    "\n",
    "outcome = get_outcome(prob.variables())\n",
    "outcome.pipe(display_outcome_nicely)"
   ]
  },
  {
   "attachments": {},
   "cell_type": "markdown",
   "metadata": {},
   "source": [
    "# Check solution"
   ]
  },
  {
   "cell_type": "code",
   "execution_count": null,
   "metadata": {},
   "outputs": [],
   "source": [
    "def calculate_satisfied_constraints(vars_):\n",
    "    \"\"\"\n",
    "    Calculate which constraints and for whom are accommodated\n",
    "\n",
    "    Parameters\n",
    "    ----------\n",
    "    vars: list of pulp.LpVariables\n",
    "        The result of prob.variables()\n",
    "\n",
    "    \"\"\"\n",
    "    constraints = {v.name: v.value() for v in vars_ if v.name.startswith('Satisfied') and not 'per_group' in v.name}\n",
    "    satisfied_constraints = (pd.Series(constraints)\n",
    "                            .to_frame(name='Satisfied')\n",
    "                            .assign(Satisfied = lambda df: df['Satisfied'].astype('boolean'))\n",
    "                            )\n",
    "    ix = (satisfied_constraints.index.to_series()\n",
    "            .str.extract(\"Satisfied_\\('(?P<ll>.*)',_(?P<Nr>.*)\\)\")\n",
    "            .set_index(['ll', 'Nr'])\n",
    "            .index\n",
    "            )\n",
    "    \n",
    "    satisfied_constraints.index = ix\n",
    "    return satisfied_constraints\n",
    "\n",
    "\n",
    "def calculate_performance_per_leerling(satisfied_constraints):\n",
    "    \"\"\"\n",
    "    Calculate basic performance metrics per leerling\n",
    "\n",
    "    Performance is better when more preferences are more accommodated\n",
    "\n",
    "    Parameters\n",
    "    ----------\n",
    "    satisfied_constraints: pd.DataFrame\n",
    "        The output of calculate_satisfied_constraints\n",
    "    \"\"\"\n",
    "    df = satisfied_constraints.groupby('ll')['Satisfied'].agg(NrPreferences = 'count',\n",
    "                                                              AccountedPreferences = 'sum',\n",
    "                                                              PctAccounted = 'mean')\n",
    "\n",
    "    possible_satisfaction = np.array([get_satisfaction(nprefs) for nprefs in df['NrPreferences']])\n",
    "    actual_satisfaction = np.array([get_satisfaction(nprefs) for nprefs in df['AccountedPreferences']])\n",
    "    df = df.assign(RelativeSatisfaction =  actual_satisfaction / possible_satisfaction)\n",
    "    \n",
    "    return df\n",
    "\n",
    "def calculate_solution_performance(ll_performance):\n",
    "    \"\"\"\n",
    "    Calculate the performance of the general model\n",
    "\n",
    "    Parameters\n",
    "    ----------\n",
    "    ll_performance: pd.DataFrame\n",
    "        The output of calculate_performance_per_leerling\n",
    "    \"\"\"\n",
    "    max_attainable_satisfaction = (ll_performance['NrPreferences'].value_counts() # nr of ll with n_wishes\n",
    "                                    .to_frame()\n",
    "                                    .assign(MaxSatisfaction = lambda df: df.index.map(get_satisfaction), # value per student with n_wishes\n",
    "                                            prod = lambda df: df['NrPreferences'] * df['MaxSatisfaction'] # max satisfaction per n_wishes\n",
    "                                            )\n",
    "                                    ['prod'].sum() # sum to get solution total\n",
    "                                    )\n",
    "    solution_performance = (ll_performance[['NrPreferences', 'AccountedPreferences']].sum().to_frame().transpose()\n",
    "\n",
    "\n",
    "                                          .assign(PctAccountedPReferences = lambda df: df['AccountedPreferences'] / df['NrPreferences'],\n",
    "                                                  Satisfaction = ll_performance['AccountedPreferences'].map(get_satisfaction).sum() / max_attainable_satisfaction)                \n",
    "                        ).to_dict('records')[0]\n",
    "    return solution_performance\n",
    "\n",
    "satisfied_constraints = calculate_satisfied_constraints(prob.variables())\n",
    "ll_performance = calculate_performance_per_leerling(satisfied_constraints)\n",
    "solution_performance = calculate_solution_performance(ll_performance)  \n",
    "print(solution_performance)\n",
    "display(ll_performance)"
   ]
  },
  {
   "attachments": {},
   "cell_type": "markdown",
   "metadata": {},
   "source": [
    "# Analysis"
   ]
  },
  {
   "cell_type": "code",
   "execution_count": null,
   "metadata": {},
   "outputs": [],
   "source": [
    "def get_solution_performance(voorkeuren, n_students_max, optimize_evenly):\n",
    "    \"\"\"\n",
    "    Convenience function which combines problem solving to get all metrics\n",
    "    \"\"\"\n",
    "        prob = solve_problem(voorkeuren, max_students_per_group=n_students_max, optimize_evenly=optimize_evenly)\n",
    "        satisfied_constraints = calculate_satisfied_constraints(prob.variables())\n",
    "        ll_performance = calculate_performance_per_leerling(satisfied_constraints)\n",
    "        return calculate_solution_performance(ll_performance)  \n",
    "\n",
    "solution_performance_overview = dict()\n",
    "for optimize_evenly in (True, False):\n",
    "    for n_students_max in range(4, 7):\n",
    "        solution_performance_overview[(optimize_evenly, n_students_max)] = get_solution_performance(voorkeuren, n_students_max, optimize_evenly)"
   ]
  },
  {
   "cell_type": "code",
   "execution_count": null,
   "metadata": {},
   "outputs": [],
   "source": [
    "pd.DataFrame.from_dict(solution_performance_overview, orient='index')"
   ]
  },
  {
   "attachments": {},
   "cell_type": "markdown",
   "metadata": {},
   "source": [
    "Optimaliseer naar leerlingtevredenheid:\n",
    "* Max 6 per groep: 23 wensen vervuld, 86.2% (niemand naar Oranje)\n",
    "* Max 5 per groep: 22 wensen vervuld, 85.0% (Ro 3e wens niet)\n",
    "* Max 4 per groep: 21 wensen vervuld, 82.6% \n",
    "\n",
    "Optimaliseer naar aantal wensen vervuld\n",
    "* Max 6 per groep: 25 wensen vervuld, 83.8% (El, Su geen wensen)\n",
    "* Max 5 per groep: 23 wensen vervuld, 80.3% (El, Fl geen wensen)\n",
    "* Max 4 per groep: 21 wensen vervuld, 79.1% (Fl geen wensen)"
   ]
  }
 ],
 "metadata": {
  "kernelspec": {
   "display_name": "leerlingindeling",
   "language": "python",
   "name": "python3"
  },
  "language_info": {
   "codemirror_mode": {
    "name": "ipython",
    "version": 3
   },
   "file_extension": ".py",
   "mimetype": "text/x-python",
   "name": "python",
   "nbconvert_exporter": "python",
   "pygments_lexer": "ipython3",
   "version": "3.9.16"
  },
  "orig_nbformat": 4
 },
 "nbformat": 4,
 "nbformat_minor": 2
}

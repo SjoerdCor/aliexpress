{
 "cells": [
  {
   "cell_type": "code",
   "execution_count": null,
   "metadata": {},
   "outputs": [],
   "source": [
    "import pandas as pd\n",
    "\n",
    "import datareader\n",
    "from problemsolver import ProblemSolver\n",
    "import solutions"
   ]
  },
  {
   "attachments": {},
   "cell_type": "markdown",
   "metadata": {},
   "source": [
    "# Reading constraints and preferences"
   ]
  },
  {
   "cell_type": "code",
   "execution_count": null,
   "metadata": {},
   "outputs": [],
   "source": [
    "VOORKEUREN = \"voorkeuren.xlsx\"\n",
    "MBGROEPEN = [\"Blauw\", \"Groen\", \"Oranje\", \"Geel\"]"
   ]
  },
  {
   "cell_type": "code",
   "execution_count": null,
   "metadata": {},
   "outputs": [],
   "source": [
    "processor = datareader.VoorkeurenProcessor(VOORKEUREN)\n",
    "voorkeuren = processor.process(all_to_groups=MBGROEPEN)\n",
    "leerling_per_obgroep = processor.get_students_per_old_group()"
   ]
  },
  {
   "cell_type": "code",
   "execution_count": null,
   "metadata": {},
   "outputs": [],
   "source": [
    "ps = ProblemSolver(voorkeuren, leerling_per_obgroep, MBGROEPEN)\n",
    "prob = ps.run()"
   ]
  },
  {
   "cell_type": "code",
   "execution_count": null,
   "metadata": {},
   "outputs": [],
   "source": [
    "sa = solutions.SolutionAnalyzer(prob, voorkeuren, processor.input)\n",
    "\n",
    "display(sa.display_groepsindeling())\n",
    "display(sa.solution_performance)\n",
    "display(sa.display_student_performance())\n",
    "display(sa.display_satisfied_preferences())\n",
    "sa.to_excel()"
   ]
  },
  {
   "attachments": {},
   "cell_type": "markdown",
   "metadata": {},
   "source": [
    "# Analysis"
   ]
  },
  {
   "cell_type": "code",
   "execution_count": null,
   "metadata": {},
   "outputs": [],
   "source": [
    "solution_performance_overview = dict()\n",
    "known_hashes = set()\n",
    "relevant_solutions = []\n",
    "\n",
    "for optimize in [\"studentsatisfaction\", \"n_preferences\", \"weighted_preferences\"]:\n",
    "    for n_students_max in range(4, 7):\n",
    "        ps = ProblemSolver(\n",
    "            voorkeuren,\n",
    "            leerling_per_obgroep,\n",
    "            MBGROEPEN,\n",
    "            optimize=optimize,\n",
    "            max_kliekje=n_students_max,\n",
    "        )\n",
    "        prob = ps.run()\n",
    "        sa = solutions.SolutionAnalyzer(prob, voorkeuren, processor.input)\n",
    "        new_hash = sa.get_hash()\n",
    "        if new_hash not in known_hashes:\n",
    "            known_hashes.add(new_hash)\n",
    "            relevant_solutions.append(sa)\n",
    "        print(f\"{optimize=} {n_students_max=}\")\n",
    "        display(sa.display_groepsindeling())\n",
    "\n",
    "        solution_performance_overview[(optimize, n_students_max)] = (\n",
    "            sa.solution_performance\n",
    "        )"
   ]
  },
  {
   "cell_type": "code",
   "execution_count": null,
   "metadata": {},
   "outputs": [],
   "source": [
    "pd.DataFrame.from_dict(solution_performance_overview, orient=\"index\")"
   ]
  },
  {
   "cell_type": "code",
   "execution_count": null,
   "metadata": {},
   "outputs": [],
   "source": [
    "for sol in relevant_solutions:\n",
    "    display(sol.display_groepsindeling())\n",
    "    display(sol.solution_performance)\n",
    "    display(sol.display_student_performance())\n",
    "    print(\"-\" * 30)"
   ]
  }
 ],
 "metadata": {
  "kernelspec": {
   "display_name": "leerlingindeling",
   "language": "python",
   "name": "python3"
  },
  "language_info": {
   "codemirror_mode": {
    "name": "ipython",
    "version": 3
   },
   "file_extension": ".py",
   "mimetype": "text/x-python",
   "name": "python",
   "nbconvert_exporter": "python",
   "pygments_lexer": "ipython3",
   "version": "3.11.3"
  },
  "orig_nbformat": 4,
  "vscode": {
   "interpreter": {
    "hash": "e479b33cf3efd63994928ddd6c63e27a446c5808be1fffbc7704a9af2936455f"
   }
  }
 },
 "nbformat": 4,
 "nbformat_minor": 2
}

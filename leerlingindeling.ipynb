{
 "cells": [
  {
   "cell_type": "code",
   "execution_count": null,
   "metadata": {},
   "outputs": [],
   "source": [
    "import pandas as pd\n",
    "\n",
    "import datareader\n",
    "from problemsolver import ProblemSolver\n",
    "import solutions"
   ]
  },
  {
   "cell_type": "code",
   "execution_count": null,
   "metadata": {},
   "outputs": [],
   "source": [
    "FILE_PREFERENCES = \"voorkeuren_tortels_2024.xlsx\"\n",
    "GROUPS_TO = [\"Blauw\", \"Groen\", \"Oranje\", \"Geel\"]"
   ]
  },
  {
   "cell_type": "code",
   "execution_count": null,
   "metadata": {},
   "outputs": [],
   "source": [
    "processor = datareader.VoorkeurenProcessor(FILE_PREFERENCES)\n",
    "preferences = processor.process(all_to_groups=GROUPS_TO)\n",
    "students_info = processor.get_students_meta_info()\n",
    "students_per_group_from = processor.get_students_per_old_group()"
   ]
  },
  {
   "cell_type": "code",
   "execution_count": null,
   "metadata": {},
   "outputs": [],
   "source": [
    "ps = ProblemSolver(\n",
    "    preferences,\n",
    "    students_per_group_from,\n",
    "    students_info,\n",
    "    GROUPS_TO,\n",
    "    max_imbalance_boys_girls=1,\n",
    ")\n",
    "\n",
    "\n",
    "\n",
    "prob = ps.run()"
   ]
  },
  {
   "cell_type": "code",
   "execution_count": null,
   "metadata": {},
   "outputs": [],
   "source": [
    "sa = solutions.SolutionAnalyzer(prob, preferences, processor.input)\n",
    "\n",
    "display(sa.display_groepsindeling())\n",
    "display(sa.solution_performance)\n",
    "display(sa.display_student_performance())\n",
    "display(sa.display_satisfied_preferences())\n",
    "sa.to_excel()"
   ]
  },
  {
   "attachments": {},
   "cell_type": "markdown",
   "metadata": {},
   "source": [
    "# Analysis"
   ]
  },
  {
   "cell_type": "code",
   "execution_count": null,
   "metadata": {},
   "outputs": [],
   "source": [
    "solution_performance_overview = dict()\n",
    "known_hashes = set()\n",
    "relevant_solutions = []\n",
    "optimization_options = [\n",
    "    \"studentsatisfaction\",\n",
    "    \"n_preferences\",\n",
    "    \"weighted_preferences\",\n",
    "    \"least_satisfied\",\n",
    "]\n",
    "for optimize in optimization_options:\n",
    "    for n_students_max in range(4, 7):\n",
    "        for max_imbalance in range(1, 4):\n",
    "            ps = ProblemSolver(\n",
    "                preferences,\n",
    "                students_per_group_from,\n",
    "                students_info,\n",
    "                GROUPS_TO,\n",
    "                optimize=optimize,\n",
    "                max_clique=n_students_max,\n",
    "                max_imbalance_boys_girls=max_imbalance,\n",
    "            )\n",
    "            prob = ps.run()\n",
    "            sa = solutions.SolutionAnalyzer(prob, preferences, processor.input)\n",
    "            new_hash = sa.get_hash()\n",
    "            if new_hash not in known_hashes:\n",
    "                known_hashes.add(new_hash)\n",
    "                relevant_solutions.append(sa)\n",
    "                print(f\"{optimize=} {n_students_max=} {max_imbalance=}\")\n",
    "                display(sa.display_groepsindeling())\n",
    "\n",
    "                solution_performance_overview[(optimize, n_students_max)] = (\n",
    "                    sa.solution_performance\n",
    "                )"
   ]
  },
  {
   "cell_type": "code",
   "execution_count": null,
   "metadata": {},
   "outputs": [],
   "source": [
    "pd.DataFrame.from_dict(solution_performance_overview, orient=\"index\")"
   ]
  },
  {
   "cell_type": "code",
   "execution_count": null,
   "metadata": {},
   "outputs": [],
   "source": [
    "for sol in relevant_solutions:\n",
    "    display(sol.display_groepsindeling())\n",
    "    display(sol.solution_performance)\n",
    "    display(sol.display_student_performance())\n",
    "    print(\"-\" * 30)"
   ]
  }
 ],
 "metadata": {
  "kernelspec": {
   "display_name": "leerlingindeling",
   "language": "python",
   "name": "python3"
  },
  "language_info": {
   "codemirror_mode": {
    "name": "ipython",
    "version": 3
   },
   "file_extension": ".py",
   "mimetype": "text/x-python",
   "name": "python",
   "nbconvert_exporter": "python",
   "pygments_lexer": "ipython3",
   "version": "3.11.3"
  },
  "orig_nbformat": 4,
  "vscode": {
   "interpreter": {
    "hash": "e479b33cf3efd63994928ddd6c63e27a446c5808be1fffbc7704a9af2936455f"
   }
  }
 },
 "nbformat": 4,
 "nbformat_minor": 2
}

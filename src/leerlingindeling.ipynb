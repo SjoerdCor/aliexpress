{
 "cells": [
  {
   "cell_type": "code",
   "execution_count": null,
   "metadata": {},
   "outputs": [],
   "source": [
    "import os\n",
    "import pandas as pd\n",
    "\n",
    "\n",
    "\n",
    "import datareader\n",
    "\n",
    "import problemsolver\n",
    "\n",
    "import solutions"
   ]
  },
  {
   "cell_type": "code",
   "execution_count": null,
   "metadata": {},
   "outputs": [],
   "source": [
    "FILE_PREFERENCES = \"voorkeuren.xlsx\"\n",
    "FILE_GROUPS_TO = \"groepen.xlsx\"\n",
    "FILE_NOT_TOGETHER = \"niet_samen.xlsx\""
   ]
  },
  {
   "cell_type": "code",
   "execution_count": null,
   "metadata": {},
   "outputs": [],
   "source": [
    "groups_to = pd.read_excel(FILE_GROUPS_TO, index_col=0).to_dict(orient=\"index\")\n",
    "processor = datareader.VoorkeurenProcessor(FILE_PREFERENCES)\n",
    "preferences = processor.process(all_to_groups=list(groups_to.keys()))\n",
    "students_info = processor.get_students_meta_info()\n",
    "not_together = datareader.read_not_together(FILE_NOT_TOGETHER)"
   ]
  },
  {
   "cell_type": "code",
   "execution_count": null,
   "metadata": {},
   "outputs": [],
   "source": [
    "df_groups_to = pd.DataFrame.from_dict(groups_to, orient=\"index\")\n",
    "print(df_groups_to.assign(Totaal=lambda df: df.sum(\"columns\")))\n",
    "\n",
    "\n",
    "df_students = pd.DataFrame.from_dict(students_info, orient=\"index\")\n",
    "print(df_students[[\"Jongen/meisje\"]].value_counts())\n",
    "print(df_students[\"Stamgroep\"].value_counts())"
   ]
  },
  {
   "cell_type": "code",
   "execution_count": null,
   "metadata": {},
   "outputs": [],
   "source": [
    "ps = problemsolver.ProblemSolver(\n",
    "    preferences,\n",
    "    students_info,\n",
    "    groups_to,\n",
    "    not_together,\n",
    "    max_imbalance_boys_girls_total=6,\n",
    "    optimize=\"least_satisfied\",\n",
    ")\n",
    "\n",
    "\n",
    "ps.run(n_solutions=2, overwrite=True)\n",
    "ps.run(distance=10, overwrite=True)"
   ]
  },
  {
   "cell_type": "code",
   "execution_count": null,
   "metadata": {},
   "outputs": [],
   "source": [
    "def jsons_to_excel(folder):\n",
    "    for file in os.listdir(folder):\n",
    "        if file.endswith(\".json\"):\n",
    "            fname = os.path.join(folder, file)\n",
    "            sa = solutions.SolutionAnalyzer(\n",
    "                fname, preferences, processor.input, students_info\n",
    "            )\n",
    "            sa.to_excel()\n",
    "\n",
    "\n",
    "jsons_to_excel(ps.get_solution_name())"
   ]
  }
 ],
 "metadata": {
  "kernelspec": {
   "display_name": "leerlingindeling",
   "language": "python",
   "name": "python3"
  },
  "language_info": {
   "codemirror_mode": {
    "name": "ipython",
    "version": 3
   },
   "file_extension": ".py",
   "mimetype": "text/x-python",
   "name": "python",
   "nbconvert_exporter": "python",
   "pygments_lexer": "ipython3",
   "version": "3.11.11"
  },
  "orig_nbformat": 4,
  "vscode": {
   "interpreter": {
    "hash": "e479b33cf3efd63994928ddd6c63e27a446c5808be1fffbc7704a9af2936455f"
   }
  }
 },
 "nbformat": 4,
 "nbformat_minor": 2
}

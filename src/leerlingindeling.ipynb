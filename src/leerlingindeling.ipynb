{
 "cells": [
  {
   "cell_type": "code",
   "execution_count": 1,
   "metadata": {},
   "outputs": [],
   "source": [
    "import pandas as pd\n",
    "\n",
    "import datareader\n",
    "import problemsolver\n",
    "import solutions"
   ]
  },
  {
   "cell_type": "code",
   "execution_count": 2,
   "metadata": {},
   "outputs": [],
   "source": [
    "FILE_PREFERENCES = \"Voorkeuren en wensen groepsindeling - nieuw.xlsx\"\n",
    "FILE_GROUPS_TO = \"groepen_2025.xlsx\"\n",
    "FILE_NOT_TOGETHER = \"niet_samen_2025.xlsx\""
   ]
  },
  {
   "cell_type": "code",
   "execution_count": 3,
   "metadata": {},
   "outputs": [],
   "source": [
    "groups_to = pd.read_excel(FILE_GROUPS_TO, index_col=0).to_dict(orient=\"index\")\n",
    "processor = datareader.VoorkeurenProcessor(FILE_PREFERENCES)\n",
    "preferences = processor.process(all_to_groups=list(groups_to.keys()))\n",
    "students_info = processor.get_students_meta_info()\n",
    "not_together = datareader.read_not_together(FILE_NOT_TOGETHER)"
   ]
  },
  {
   "cell_type": "code",
   "execution_count": 4,
   "metadata": {},
   "outputs": [
    {
     "data": {
      "text/html": [
       "<div>\n",
       "<style scoped>\n",
       "    .dataframe tbody tr th:only-of-type {\n",
       "        vertical-align: middle;\n",
       "    }\n",
       "\n",
       "    .dataframe tbody tr th {\n",
       "        vertical-align: top;\n",
       "    }\n",
       "\n",
       "    .dataframe thead th {\n",
       "        text-align: right;\n",
       "    }\n",
       "</style>\n",
       "<table border=\"1\" class=\"dataframe\">\n",
       "  <thead>\n",
       "    <tr style=\"text-align: right;\">\n",
       "      <th></th>\n",
       "      <th>Jongens</th>\n",
       "      <th>Meisjes</th>\n",
       "      <th>Totaal</th>\n",
       "    </tr>\n",
       "  </thead>\n",
       "  <tbody>\n",
       "    <tr>\n",
       "      <th>Blauw</th>\n",
       "      <td>11</td>\n",
       "      <td>9</td>\n",
       "      <td>20</td>\n",
       "    </tr>\n",
       "    <tr>\n",
       "      <th>Geel</th>\n",
       "      <td>8</td>\n",
       "      <td>11</td>\n",
       "      <td>19</td>\n",
       "    </tr>\n",
       "    <tr>\n",
       "      <th>Groen</th>\n",
       "      <td>10</td>\n",
       "      <td>8</td>\n",
       "      <td>18</td>\n",
       "    </tr>\n",
       "    <tr>\n",
       "      <th>Oranje</th>\n",
       "      <td>6</td>\n",
       "      <td>11</td>\n",
       "      <td>17</td>\n",
       "    </tr>\n",
       "  </tbody>\n",
       "</table>\n",
       "</div>"
      ],
      "text/plain": [
       "        Jongens  Meisjes  Totaal\n",
       "Blauw        11        9      20\n",
       "Geel          8       11      19\n",
       "Groen        10        8      18\n",
       "Oranje        6       11      17"
      ]
     },
     "metadata": {},
     "output_type": "display_data"
    },
    {
     "name": "stdout",
     "output_type": "stream",
     "text": [
      "Jongen/meisje\n",
      "Meisje           24\n",
      "Jongen           19\n",
      "Name: count, dtype: int64\n",
      "Stamgroep\n",
      "Kaboutertuin    12\n",
      "Vlindertuin     12\n",
      "Torteltuin      10\n",
      "Tovertuin        9\n",
      "Name: count, dtype: int64\n"
     ]
    }
   ],
   "source": [
    "df_groups_to = pd.DataFrame.from_dict(groups_to, orient=\"index\")\n",
    "display(df_groups_to.assign(Totaal=lambda df: df.sum(\"columns\")))\n",
    "\n",
    "\n",
    "df_students = pd.DataFrame.from_dict(students_info, orient=\"index\")\n",
    "print(df_students[[\"Jongen/meisje\"]].value_counts())\n",
    "print(df_students[\"Stamgroep\"].value_counts())"
   ]
  },
  {
   "cell_type": "code",
   "execution_count": 6,
   "metadata": {},
   "outputs": [
    {
     "name": "stdout",
     "output_type": "stream",
     "text": [
      "Level 0, step 1 done, 0.5714285714286\n",
      "Level 0, step 2 done, 41\n",
      "Level 1, step 1 done, 0.6073696169273\n",
      "Level 1, step 2 done, 40\n",
      "Level 2, step 1 done, 0.6610549765808\n",
      "Level 2, step 2 done, 39\n",
      "Level 3, step 1 done, 0.6666676666667\n",
      "Level 3, step 2 done, 32\n",
      "Level 4, step 1 done, 0.6673007258392\n",
      "Level 4, step 2 done, 31\n",
      "Level 5, step 1 done, 0.6897763035352\n",
      "Level 5, step 2 done, 31\n",
      "Level 6, step 1 done, 0.709125996087\n",
      "Level 6, step 2 done, 29\n",
      "Level 7, step 1 done, 0.7387971250363\n",
      "Level 7, step 2 done, 27\n",
      "Level 8, step 1 done, 0.7741945483871\n",
      "Level 8, step 2 done, 26\n",
      "Level 9, step 1 done, 0.7846792049872\n",
      "Level 9, step 2 done, 23\n"
     ]
    },
    {
     "name": "stderr",
     "output_type": "stream",
     "text": [
      "c:\\Users\\sjoer\\Anaconda3\\envs\\leerlingindeling\\Lib\\site-packages\\pulp\\pulp.py:1780: UserWarning: Overwriting previously set objective.\n",
      "  warnings.warn(\"Overwriting previously set objective.\")\n"
     ]
    },
    {
     "ename": "KeyError",
     "evalue": "'binary'",
     "output_type": "error",
     "traceback": [
      "\u001b[1;31m---------------------------------------------------------------------------\u001b[0m",
      "\u001b[1;31mKeyError\u001b[0m                                  Traceback (most recent call last)",
      "File \u001b[1;32mc:\\Users\\sjoer\\Anaconda3\\envs\\leerlingindeling\\Lib\\site-packages\\IPython\\core\\formatters.py:770\u001b[0m, in \u001b[0;36mPlainTextFormatter.__call__\u001b[1;34m(self, obj)\u001b[0m\n\u001b[0;32m    763\u001b[0m stream \u001b[38;5;241m=\u001b[39m StringIO()\n\u001b[0;32m    764\u001b[0m printer \u001b[38;5;241m=\u001b[39m pretty\u001b[38;5;241m.\u001b[39mRepresentationPrinter(stream, \u001b[38;5;28mself\u001b[39m\u001b[38;5;241m.\u001b[39mverbose,\n\u001b[0;32m    765\u001b[0m     \u001b[38;5;28mself\u001b[39m\u001b[38;5;241m.\u001b[39mmax_width, \u001b[38;5;28mself\u001b[39m\u001b[38;5;241m.\u001b[39mnewline,\n\u001b[0;32m    766\u001b[0m     max_seq_length\u001b[38;5;241m=\u001b[39m\u001b[38;5;28mself\u001b[39m\u001b[38;5;241m.\u001b[39mmax_seq_length,\n\u001b[0;32m    767\u001b[0m     singleton_pprinters\u001b[38;5;241m=\u001b[39m\u001b[38;5;28mself\u001b[39m\u001b[38;5;241m.\u001b[39msingleton_printers,\n\u001b[0;32m    768\u001b[0m     type_pprinters\u001b[38;5;241m=\u001b[39m\u001b[38;5;28mself\u001b[39m\u001b[38;5;241m.\u001b[39mtype_printers,\n\u001b[0;32m    769\u001b[0m     deferred_pprinters\u001b[38;5;241m=\u001b[39m\u001b[38;5;28mself\u001b[39m\u001b[38;5;241m.\u001b[39mdeferred_printers)\n\u001b[1;32m--> 770\u001b[0m printer\u001b[38;5;241m.\u001b[39mpretty(obj)\n\u001b[0;32m    771\u001b[0m printer\u001b[38;5;241m.\u001b[39mflush()\n\u001b[0;32m    772\u001b[0m \u001b[38;5;28;01mreturn\u001b[39;00m stream\u001b[38;5;241m.\u001b[39mgetvalue()\n",
      "File \u001b[1;32mc:\\Users\\sjoer\\Anaconda3\\envs\\leerlingindeling\\Lib\\site-packages\\IPython\\lib\\pretty.py:419\u001b[0m, in \u001b[0;36mRepresentationPrinter.pretty\u001b[1;34m(self, obj)\u001b[0m\n\u001b[0;32m    408\u001b[0m                         \u001b[38;5;28;01mreturn\u001b[39;00m meth(obj, \u001b[38;5;28mself\u001b[39m, cycle)\n\u001b[0;32m    409\u001b[0m                 \u001b[38;5;28;01mif\u001b[39;00m (\n\u001b[0;32m    410\u001b[0m                     \u001b[38;5;28mcls\u001b[39m \u001b[38;5;129;01mis\u001b[39;00m \u001b[38;5;129;01mnot\u001b[39;00m \u001b[38;5;28mobject\u001b[39m\n\u001b[0;32m    411\u001b[0m                     \u001b[38;5;66;03m# check if cls defines __repr__\u001b[39;00m\n\u001b[1;32m   (...)\u001b[0m\n\u001b[0;32m    417\u001b[0m                     \u001b[38;5;129;01mand\u001b[39;00m \u001b[38;5;28mcallable\u001b[39m(_safe_getattr(\u001b[38;5;28mcls\u001b[39m, \u001b[38;5;124m\"\u001b[39m\u001b[38;5;124m__repr__\u001b[39m\u001b[38;5;124m\"\u001b[39m, \u001b[38;5;28;01mNone\u001b[39;00m))\n\u001b[0;32m    418\u001b[0m                 ):\n\u001b[1;32m--> 419\u001b[0m                     \u001b[38;5;28;01mreturn\u001b[39;00m _repr_pprint(obj, \u001b[38;5;28mself\u001b[39m, cycle)\n\u001b[0;32m    421\u001b[0m     \u001b[38;5;28;01mreturn\u001b[39;00m _default_pprint(obj, \u001b[38;5;28mself\u001b[39m, cycle)\n\u001b[0;32m    422\u001b[0m \u001b[38;5;28;01mfinally\u001b[39;00m:\n",
      "File \u001b[1;32mc:\\Users\\sjoer\\Anaconda3\\envs\\leerlingindeling\\Lib\\site-packages\\IPython\\lib\\pretty.py:794\u001b[0m, in \u001b[0;36m_repr_pprint\u001b[1;34m(obj, p, cycle)\u001b[0m\n\u001b[0;32m    792\u001b[0m \u001b[38;5;250m\u001b[39m\u001b[38;5;124;03m\"\"\"A pprint that just redirects to the normal repr function.\"\"\"\u001b[39;00m\n\u001b[0;32m    793\u001b[0m \u001b[38;5;66;03m# Find newlines and replace them with p.break_()\u001b[39;00m\n\u001b[1;32m--> 794\u001b[0m output \u001b[38;5;241m=\u001b[39m \u001b[38;5;28mrepr\u001b[39m(obj)\n\u001b[0;32m    795\u001b[0m lines \u001b[38;5;241m=\u001b[39m output\u001b[38;5;241m.\u001b[39msplitlines()\n\u001b[0;32m    796\u001b[0m \u001b[38;5;28;01mwith\u001b[39;00m p\u001b[38;5;241m.\u001b[39mgroup():\n",
      "File \u001b[1;32mc:\\Users\\sjoer\\Anaconda3\\envs\\leerlingindeling\\Lib\\site-packages\\pulp\\pulp.py:1465\u001b[0m, in \u001b[0;36mLpProblem.__repr__\u001b[1;34m(self)\u001b[0m\n\u001b[0;32m   1463\u001b[0m s \u001b[38;5;241m+\u001b[39m\u001b[38;5;241m=\u001b[39m \u001b[38;5;124m\"\u001b[39m\u001b[38;5;124mVARIABLES\u001b[39m\u001b[38;5;130;01m\\n\u001b[39;00m\u001b[38;5;124m\"\u001b[39m\n\u001b[0;32m   1464\u001b[0m \u001b[38;5;28;01mfor\u001b[39;00m v \u001b[38;5;129;01min\u001b[39;00m \u001b[38;5;28mself\u001b[39m\u001b[38;5;241m.\u001b[39mvariables():\n\u001b[1;32m-> 1465\u001b[0m     s \u001b[38;5;241m+\u001b[39m\u001b[38;5;241m=\u001b[39m v\u001b[38;5;241m.\u001b[39masCplexLpVariable() \u001b[38;5;241m+\u001b[39m \u001b[38;5;124m\"\u001b[39m\u001b[38;5;124m \u001b[39m\u001b[38;5;124m\"\u001b[39m \u001b[38;5;241m+\u001b[39m const\u001b[38;5;241m.\u001b[39mLpCategories[v\u001b[38;5;241m.\u001b[39mcat] \u001b[38;5;241m+\u001b[39m \u001b[38;5;124m\"\u001b[39m\u001b[38;5;130;01m\\n\u001b[39;00m\u001b[38;5;124m\"\u001b[39m\n\u001b[0;32m   1466\u001b[0m \u001b[38;5;28;01mreturn\u001b[39;00m s\n",
      "\u001b[1;31mKeyError\u001b[0m: 'binary'"
     ]
    }
   ],
   "source": [
    "prob_name = \"OB_MB_2025_4\"\n",
    "filename = f\"{prob_name}.json\"\n",
    "ps = problemsolver.ProblemSolver(\n",
    "    preferences,\n",
    "    students_info,\n",
    "    groups_to,\n",
    "    not_together,\n",
    "    max_imbalance_boys_girls_total=6,\n",
    "    optimize=\"lexmaxmin\",\n",
    ")\n",
    "\n",
    "\n",
    "# ps.run(filename=filename, n_solutions=2, overwrite=True)\n",
    "ps.run(filename=filename, distance=10, overwrite=True)"
   ]
  },
  {
   "cell_type": "code",
   "execution_count": null,
   "metadata": {},
   "outputs": [
    {
     "ename": "FileNotFoundError",
     "evalue": "[Errno 2] No such file or directory: 'OB_MB_2025_1'",
     "output_type": "error",
     "traceback": [
      "\u001b[1;31m---------------------------------------------------------------------------\u001b[0m",
      "\u001b[1;31mFileNotFoundError\u001b[0m                         Traceback (most recent call last)",
      "Cell \u001b[1;32mIn[8], line 3\u001b[0m\n\u001b[0;32m      1\u001b[0m filenames \u001b[38;5;241m=\u001b[39m [\u001b[38;5;124m\"\u001b[39m\u001b[38;5;124mOB_MB_2025_1\u001b[39m\u001b[38;5;124m\"\u001b[39m, \u001b[38;5;124m\"\u001b[39m\u001b[38;5;124mOB_MB_2025_2\u001b[39m\u001b[38;5;124m\"\u001b[39m, \u001b[38;5;124m\"\u001b[39m\u001b[38;5;124mOB_MB_2025_3\u001b[39m\u001b[38;5;124m\"\u001b[39m, \u001b[38;5;124m\"\u001b[39m\u001b[38;5;124mOB_MB_2025_4_1\u001b[39m\u001b[38;5;124m\"\u001b[39m]\n\u001b[0;32m      2\u001b[0m \u001b[38;5;28;01mfor\u001b[39;00m filename \u001b[38;5;129;01min\u001b[39;00m filenames:\n\u001b[1;32m----> 3\u001b[0m     sa \u001b[38;5;241m=\u001b[39m solutions\u001b[38;5;241m.\u001b[39mSolutionAnalyzer(filename, preferences, processor\u001b[38;5;241m.\u001b[39minput, students_info)\n\u001b[0;32m      4\u001b[0m     sa\u001b[38;5;241m.\u001b[39mshow_all()\n",
      "File \u001b[1;32mc:\\Users\\sjoer\\Documents\\Willekeurige berekeningen\\leerlingindeling\\solutions.py:27\u001b[0m, in \u001b[0;36mSolutionAnalyzer.__init__\u001b[1;34m(self, fname, preferences, input_sheet, students_info)\u001b[0m\n\u001b[0;32m     19\u001b[0m \u001b[38;5;28;01mdef\u001b[39;00m \u001b[38;5;21m__init__\u001b[39m(\n\u001b[0;32m     20\u001b[0m     \u001b[38;5;28mself\u001b[39m,\n\u001b[0;32m     21\u001b[0m     fname,\n\u001b[1;32m   (...)\u001b[0m\n\u001b[0;32m     24\u001b[0m     students_info: \u001b[38;5;28mdict\u001b[39m,\n\u001b[0;32m     25\u001b[0m ):\n\u001b[0;32m     26\u001b[0m     \u001b[38;5;28mself\u001b[39m\u001b[38;5;241m.\u001b[39mfname \u001b[38;5;241m=\u001b[39m fname\n\u001b[1;32m---> 27\u001b[0m     \u001b[38;5;28mself\u001b[39m\u001b[38;5;241m.\u001b[39mprob_vars, _ \u001b[38;5;241m=\u001b[39m pulp\u001b[38;5;241m.\u001b[39mLpProblem\u001b[38;5;241m.\u001b[39mfrom_json(fname)\n\u001b[0;32m     28\u001b[0m     \u001b[38;5;28mself\u001b[39m\u001b[38;5;241m.\u001b[39mpreferences \u001b[38;5;241m=\u001b[39m preferences\n\u001b[0;32m     29\u001b[0m     \u001b[38;5;28mself\u001b[39m\u001b[38;5;241m.\u001b[39minput_sheet \u001b[38;5;241m=\u001b[39m input_sheet\n",
      "File \u001b[1;32mc:\\Users\\sjoer\\Anaconda3\\envs\\leerlingindeling\\Lib\\site-packages\\pulp\\pulp.py:1609\u001b[0m, in \u001b[0;36mLpProblem.fromJson\u001b[1;34m(cls, filename)\u001b[0m\n\u001b[0;32m   1600\u001b[0m \u001b[38;5;129m@classmethod\u001b[39m\n\u001b[0;32m   1601\u001b[0m \u001b[38;5;28;01mdef\u001b[39;00m \u001b[38;5;21mfromJson\u001b[39m(\u001b[38;5;28mcls\u001b[39m, filename):\n\u001b[0;32m   1602\u001b[0m \u001b[38;5;250m    \u001b[39m\u001b[38;5;124;03m\"\"\"\u001b[39;00m\n\u001b[0;32m   1603\u001b[0m \u001b[38;5;124;03m    Creates a new Lp Problem from a json file with information\u001b[39;00m\n\u001b[0;32m   1604\u001b[0m \n\u001b[1;32m   (...)\u001b[0m\n\u001b[0;32m   1607\u001b[0m \u001b[38;5;124;03m    :rtype: (dict, :py:class:`LpProblem`)\u001b[39;00m\n\u001b[0;32m   1608\u001b[0m \u001b[38;5;124;03m    \"\"\"\u001b[39;00m\n\u001b[1;32m-> 1609\u001b[0m     \u001b[38;5;28;01mwith\u001b[39;00m \u001b[38;5;28mopen\u001b[39m(filename) \u001b[38;5;28;01mas\u001b[39;00m f:\n\u001b[0;32m   1610\u001b[0m         data \u001b[38;5;241m=\u001b[39m json\u001b[38;5;241m.\u001b[39mload(f)\n\u001b[0;32m   1611\u001b[0m     \u001b[38;5;28;01mreturn\u001b[39;00m \u001b[38;5;28mcls\u001b[39m\u001b[38;5;241m.\u001b[39mfromDict(data)\n",
      "\u001b[1;31mFileNotFoundError\u001b[0m: [Errno 2] No such file or directory: 'OB_MB_2025_1'"
     ]
    }
   ],
   "source": [
    "filenames = [\n",
    "    \"OB_MB_2025_1.json\",\n",
    "    \"OB_MB_2025_2.json\",\n",
    "    \"OB_MB_2025_3.json\",\n",
    "    \"OB_MB_2025_4_1.json\",\n",
    "]\n",
    "for filename in filenames:\n",
    "    sa = solutions.SolutionAnalyzer(\n",
    "        filename, preferences, processor.input, students_info\n",
    "    )\n",
    "\n",
    "    sa.show_all()"
   ]
  },
  {
   "attachments": {},
   "cell_type": "markdown",
   "metadata": {},
   "source": [
    "# Analysis"
   ]
  },
  {
   "cell_type": "code",
   "execution_count": null,
   "metadata": {},
   "outputs": [],
   "source": [
    "solution_performance_overview = dict()\n",
    "known_hashes = set()\n",
    "relevant_solutions = []\n",
    "optimization_options = [\n",
    "    \"studentsatisfaction\",\n",
    "    \"weighted_preferences\",\n",
    "    \"least_satisfied\",\n",
    "]\n",
    "for optimize in optimization_options:\n",
    "    for max_imbalance_boys_girls_year in range(1, 4):\n",
    "        ps = problemsolver.ProblemSolver(\n",
    "            preferences,\n",
    "            students_info,\n",
    "            groups_to,\n",
    "            optimize=optimize,\n",
    "            max_imbalance_boys_girls_year=max_imbalance_boys_girls_year,\n",
    "        )\n",
    "        prob = ps.run()\n",
    "        sa = solutions.SolutionAnalyzer(prob, preferences, processor.input)\n",
    "        new_hash = sa.get_hash()\n",
    "        if new_hash not in known_hashes:\n",
    "            known_hashes.add(new_hash)\n",
    "            relevant_solutions.append(sa)\n",
    "            print(f\"{optimize=} {max_imbalance_boys_girls_year=}\")\n",
    "            display(sa.display_groepsindeling())\n",
    "\n",
    "            solution_performance_overview[(optimize, max_imbalance_boys_girls_year)] = (\n",
    "                sa.solution_performance\n",
    "            )"
   ]
  },
  {
   "cell_type": "code",
   "execution_count": null,
   "metadata": {},
   "outputs": [],
   "source": [
    "pd.DataFrame.from_dict(solution_performance_overview, orient=\"index\")"
   ]
  },
  {
   "cell_type": "code",
   "execution_count": null,
   "metadata": {},
   "outputs": [],
   "source": [
    "for sol in relevant_solutions:\n",
    "    display(sol.display_groepsindeling())\n",
    "    display(sol.solution_performance)\n",
    "    display(sol.display_student_performance())\n",
    "    print(\"-\" * 30)"
   ]
  }
 ],
 "metadata": {
  "kernelspec": {
   "display_name": "leerlingindeling",
   "language": "python",
   "name": "python3"
  },
  "language_info": {
   "codemirror_mode": {
    "name": "ipython",
    "version": 3
   },
   "file_extension": ".py",
   "mimetype": "text/x-python",
   "name": "python",
   "nbconvert_exporter": "python",
   "pygments_lexer": "ipython3",
   "version": "3.11.11"
  },
  "orig_nbformat": 4,
  "vscode": {
   "interpreter": {
    "hash": "e479b33cf3efd63994928ddd6c63e27a446c5808be1fffbc7704a9af2936455f"
   }
  }
 },
 "nbformat": 4,
 "nbformat_minor": 2
}
